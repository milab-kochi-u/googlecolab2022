{
  "nbformat": 4,
  "nbformat_minor": 0,
  "metadata": {
    "colab": {
      "name": "googlecolab_2022_2.ipynb",
      "provenance": [],
      "collapsed_sections": [],
      "include_colab_link": true
    },
    "kernelspec": {
      "name": "python3",
      "display_name": "Python 3"
    }
  },
  "cells": [
    {
      "cell_type": "markdown",
      "metadata": {
        "id": "view-in-github",
        "colab_type": "text"
      },
      "source": [
        "<a href=\"https://colab.research.google.com/github/milab-kochi-u/googlecolab2022/blob/main/googlecolab_2022_1.ipynb\" target=\"_parent\"><img src=\"https://colab.research.google.com/assets/colab-badge.svg\" alt=\"Open In Colab\"/></a>"
      ]
    },
    {
      "cell_type": "markdown",
      "metadata": {
        "id": "aM7K6mKZwodk"
      },
      "source": [
        "# 2022年度 情報処理 第13回\n",
        "\n",
        "今日の目標は，まずGoogle Colabを使えるようになることと，簡単なプログラムを実際に書いて動かしてみることです。\n",
        "\n",
        "Google Colab では，Python という言語を使うことができます。"
      ]
    },
    {
      "cell_type": "markdown",
      "metadata": {
        "id": "k8jeGEtizioC"
      },
      "source": [
        "---\n",
        "## 計算\n",
        "次のコード（プログラム）を動かしてみましょう。左の「セルを実行」ボタンを押してみてください。\n",
        "計算結果が出力されるはずです。"
      ]
    },
    {
      "cell_type": "code",
      "metadata": {
        "id": "9cm2ZyXEvXAX"
      },
      "source": [
        "1+1"
      ],
      "execution_count": null,
      "outputs": []
    },
    {
      "cell_type": "markdown",
      "metadata": {
        "id": "batF_cvTzfxd"
      },
      "source": [
        "これはただの数式ですので，色々と書き換えて実行しなおしてみてください。計算結果が変わるはずです。\n",
        "\n",
        "計算に使う基本的な演算子は，Excelと同じで以下の通りです。\n",
        "\n",
        "* 足し算 → `+`\n",
        "* 引き算 → `-`\n",
        "* 掛け算 → `*`\n",
        "* 割り算 → `/`"
      ]
    },
    {
      "cell_type": "markdown",
      "metadata": {
        "id": "wpGlzVfn07XF"
      },
      "source": [
        "---\n",
        "## 変数\n",
        "プログラムを書く際に，データをいれる容れ物として，変数をよく使います。\n",
        "\n",
        "次の変数を使ったプログラムを見て，変数の使い方の参考にしてください。\n",
        "\n",
        "変数の値を書き換えたり，変数を使った計算式を書き換えたりして，計算結果の出力が変わることを確認してください。"
      ]
    },
    {
      "cell_type": "code",
      "metadata": {
        "id": "gX6FErEG2ddJ",
        "cellView": "code"
      },
      "source": [
        "#@title デフォルトのタイトル テキスト\n",
        "# 底辺と高さの長さを変数に代入する\n",
        "teihen = 5\n",
        "takasa = 3\n",
        "# 底辺と高さから三角形の面積を計算する\n",
        "sankaku_menseki = teihen * takasa / 2\n",
        "# 計算結果を確認する\n",
        "sankaku_menseki"
      ],
      "execution_count": null,
      "outputs": []
    },
    {
      "cell_type": "markdown",
      "metadata": {
        "id": "qcaaAUBw49Tu"
      },
      "source": [
        "プログラミング言語によってルールに違いはありますが，基本的に変数の名前（変数名）は英字から始めます。\n",
        "\n",
        "変数名に数字を含めることはできますが，数字から始まる変数名は大抵のプログラミング言語では使えません。\n",
        "\n",
        "記号も「`_`（アンダーバー）」は長い変数名を区切るのに良く使われますが，それ以外の記号はあまり使わない方が良いでしょう。例えば，アンダーバーの代わりにハイフン「`-`」を使うと，一つの変数名ではなく，二つの変数の引き算という意味になってしまいます。\n",
        "\n",
        "*   変数名として使用可能 → 「`teihen2`」「`sankakuMenseki`」\n",
        "*   変数名として使用できない → 「`2teihen`」「`sankaku-menseki`」\n",
        "\n",
        "次のプログラムは，実行するとエラー (SyntaxError: invalid syntax) になるのを確認してみましょう。\n",
        "SyntaxError とは，日本語に翻訳すると「構文エラー」で，文法に誤りがあるという意味です。\n",
        "\n",
        "プログラムを書いていてエラーが出たら，エラーが出た場所とエラーメッセージを良く確認し，原因を見つけて対処しなければなりません。"
      ]
    },
    {
      "cell_type": "code",
      "metadata": {
        "id": "4WUDScOc7mQJ"
      },
      "source": [
        "# 実行するとエラーになります\n",
        "\n",
        "# 底辺と高さの長さを変数に代入する\n",
        "teihen = 5\n",
        "takasa = 3\n",
        "# 底辺と高さから三角形の面積を計算する\n",
        "3kaku_menseki = teihen * takasa / 2\n",
        "# 計算結果を確認する\n",
        "3kaku_menseki"
      ],
      "execution_count": null,
      "outputs": []
    },
    {
      "cell_type": "markdown",
      "metadata": {
        "id": "hXRxgcOF-mxk"
      },
      "source": [
        "変数には，数字だけでなく，様々なデータを格納することができます。\n",
        "\n",
        "例えば文字列は，「'（シングルクォート）」や「\"（ダブルクォート）」で囲み，変数に代入（格納）できます。\n",
        "\n",
        "Pythonなら，文字列の入った変数同士を足し算してやると，文字列が連結されます。（文字列の足し算ができないプログラミング言語もあります。）\n",
        "\n",
        "次のプログラムを実行，改造して，文字列データの扱い方にも慣れてしまいましょう。"
      ]
    },
    {
      "cell_type": "code",
      "metadata": {
        "id": "ij2rbVWX_r_v",
        "colab": {
          "base_uri": "https://localhost:8080/",
          "height": 35
        },
        "outputId": "e06e22a3-906a-4718-fe8e-cdccdcefdd1d"
      },
      "source": [
        "univ = 'University'\n",
        "pref = 'Kochi'\n",
        "pref + ' ' + univ"
      ],
      "execution_count": null,
      "outputs": [
        {
          "output_type": "execute_result",
          "data": {
            "application/vnd.google.colaboratory.intrinsic+json": {
              "type": "string"
            },
            "text/plain": [
              "'Kochi University'"
            ]
          },
          "metadata": {
            "tags": []
          },
          "execution_count": 3
        }
      ]
    },
    {
      "cell_type": "markdown",
      "metadata": {
        "id": "tlczJM1H3EwS"
      },
      "source": [
        "---\n",
        "## 関数（メソッド）\n",
        "関数（メソッド）は，決まった処理を行うための命令の集まりです。\n",
        "\n",
        "例えば，Excelでも平均値を計算する「AVERAGE」関数がありました。\n",
        "\n",
        "Pythonの場合は「関数名(引数, ...)」のような感じで関数を使えます。\n",
        "\n",
        "関数が何か値を返す場合は，「変数名 = 関数名(引数)」のようにすることもできます。\n",
        "\n",
        "\n",
        "* 例\n",
        "    * 文字列の長さを返す len() 関数\n",
        "        * `a = len('Kochi')` → a には 5 が入る\n",
        "    * 引数のうちの最大値を返す max() 関数\n",
        "        * `b = max(1, 2, 5, 7, 11)` → b には 11 が入る\n",
        "\n",
        "> 組み込み関数として，Pythonにあらかじめ用意されている関数はたくさんあります。→ [参照リンク](https://docs.python.org/ja/3/library/functions.html)\n",
        ">\n",
        "> これら以外にも，便利な関数がたくさん用意されたライブラリ（パッケージ）と呼ばれるものが，Pythonでは数多く公開されています。→ [参照リンク](https://pypi.org/)\n",
        "\n",
        "これまで，1つのプログラムで1つの計算結果の確認しかできませんでしたが，`print()`関数を使うと，様々な出力ができるようになります。\n",
        "\n",
        "次のプログラムを実行してみましょう。実行結果を確認できたら，「何か書き換えてみる→実行してみる」を何度も繰り返してみましょう。"
      ]
    },
    {
      "cell_type": "code",
      "metadata": {
        "id": "JVGTFIp8eiGZ"
      },
      "source": [
        "univ = 'University'\n",
        "pref = 'Kochi'\n",
        "print(pref + ' ' + univ)\n",
        "print(univ + ' of ' + pref)\n",
        "pref = 'Nagasaki'\n",
        "print(pref + ' ' + univ)\n",
        "print(univ + ' of ' + pref)\n",
        "pref = 'Shizuoka'\n",
        "print(pref + ' ' + univ)\n",
        "print(univ + ' of ' + pref)\n",
        "pref = 'Osaka'\n",
        "print(pref + ' ' + univ)\n",
        "print(univ + ' of ' + pref)"
      ],
      "execution_count": null,
      "outputs": []
    },
    {
      "cell_type": "markdown",
      "metadata": {
        "id": "o0sBGki7h1A3"
      },
      "source": [
        "`input()`関数を使うと，キーボードからの入力を受け取ることができます。\n",
        "\n",
        "次のプログラムを実行してみてください。（数値以外を入力するとエラーになるので気をつけましょう。）"
      ]
    },
    {
      "cell_type": "code",
      "metadata": {
        "id": "WKsZy9euZW9a"
      },
      "source": [
        "# メッセージを出力する\n",
        "print('a, b に整数を入力してください。')\n",
        "# キーボードから数を入力する\n",
        "a = input('a = ')\n",
        "b = input('b = ')\n",
        "# 入力した値は文字データとして扱われているので，整数に変換して計算し，計算結果を出力する\n",
        "print('a * b =', int(a)*int(b))"
      ],
      "execution_count": null,
      "outputs": []
    },
    {
      "cell_type": "markdown",
      "metadata": {
        "id": "5gYC3iibkEND"
      },
      "source": [
        "---\n",
        "## 今週の課題（課題11）「令和→西暦変換」\n",
        "\n",
        "上のプログラムを参考に，「**令和の年数を入力すると，西暦の年数を計算して出力するプログラム**」を作成してください。\n",
        "\n",
        "* 「ファイル」メニューから「.ipynb をダウンロード」を選択し，ダウンロードされたファイルを Moodle に提出すること。\n"
      ]
    },
    {
      "cell_type": "code",
      "metadata": {
        "id": "zlTWfNw4k1bl"
      },
      "source": [
        "# 令和→西暦変換\n"
      ],
      "execution_count": null,
      "outputs": []
    }
  ]
}
